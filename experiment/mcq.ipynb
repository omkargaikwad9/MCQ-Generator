{
 "cells": [
  {
   "cell_type": "code",
   "execution_count": null,
   "metadata": {},
   "outputs": [
    {
     "ename": "",
     "evalue": "",
     "output_type": "error",
     "traceback": [
      "\u001b[1;31mRunning cells with 'g:\\MCQ Generator\\env\\python.exe' requires the ipykernel package.\n",
      "\u001b[1;31mRun the following command to install 'ipykernel' into the Python environment. \n",
      "\u001b[1;31mCommand: 'conda install -p g:\\MCQ Generator\\env ipykernel --update-deps --force-reinstall'"
     ]
    }
   ],
   "source": [
    "import os\n",
    "import json\n",
    "import pandas as pd\n",
    "import traceback"
   ]
  },
  {
   "cell_type": "code",
   "execution_count": null,
   "metadata": {},
   "outputs": [
    {
     "ename": "",
     "evalue": "",
     "output_type": "error",
     "traceback": [
      "\u001b[1;31mRunning cells with 'g:\\MCQ Generator\\env\\python.exe' requires the ipykernel package.\n",
      "\u001b[1;31mRun the following command to install 'ipykernel' into the Python environment. \n",
      "\u001b[1;31mCommand: 'conda install -p g:\\MCQ Generator\\env ipykernel --update-deps --force-reinstall'"
     ]
    }
   ],
   "source": [
    "from langchain.chat_models import ChatOpenAI\n"
   ]
  },
  {
   "cell_type": "code",
   "execution_count": null,
   "metadata": {},
   "outputs": [],
   "source": [
    "from dotenv import load_dotenv\n",
    "## take enviroment variables from .env\n",
    "load_dotenv()"
   ]
  },
  {
   "cell_type": "code",
   "execution_count": null,
   "metadata": {},
   "outputs": [],
   "source": [
    "KEY = os.getenv(\"OPEN_API_KEY\")\n",
    "\n",
    "llm = ChatOpenAI(open_api_key = \"key\",model_name = \"\",temperature = 0.5)\n",
    "\n"
   ]
  },
  {
   "cell_type": "code",
   "execution_count": null,
   "metadata": {},
   "outputs": [],
   "source": [
    "from langchain.llms import OpenAI\n",
    "from langchain.prompts import PromptTemplate\n",
    "from langchain.chains import LLMChain\n",
    "from langchain.chains import SequentialChain\n",
    "from langchain.callbacks import get_openai_callback\n",
    "import PyPDF2"
   ]
  },
  {
   "cell_type": "code",
   "execution_count": null,
   "metadata": {},
   "outputs": [],
   "source": [
    "responcse_json = {\n",
    "    \"1\":{\n",
    "        \"MCQ\":\"Multiple choise question\",\n",
    "        \"option\":{\n",
    "            \"a\":\"choice here\",\n",
    "            \"b\":\"choice here\",\n",
    "            \"c\":\"choice here\",\n",
    "            \"d\":\"choice here\"\n",
    "        },\n",
    "        \"correct\":\"correct answer\"\n",
    "},\n",
    "    \"2\":{\n",
    "        \"MCQ\":\"Multiple choise question\",\n",
    "        \"option\":{\n",
    "            \"a\":\"choice here\",\n",
    "            \"b\":\"choice here\",\n",
    "            \"c\":\"choice here\",\n",
    "            \"d\":\"choice here\"\n",
    "        },\n",
    "        \"correct\":\"correct answer\"\n",
    "},\n",
    "    \"3\":{\n",
    "        \"MCQ\":\"Multiple choise question\",\n",
    "        \"option\":{\n",
    "            \"a\":\"choice here\",\n",
    "            \"b\":\"choice here\",\n",
    "            \"c\":\"choice here\",\n",
    "            \"d\":\"choice here\"\n",
    "        },\n",
    "        \"correct\":\"correct answer\"\n",
    "},\n",
    "    \"4\":{\n",
    "        \"MCQ\":\"Multiple choise question\",\n",
    "        \"option\":{\n",
    "            \"a\":\"choice here\",\n",
    "            \"b\":\"choice here\",\n",
    "            \"c\":\"choice here\",\n",
    "            \"d\":\"choice here\"\n",
    "        },\n",
    "        \"correct\":\"correct answer\"\n",
    "},\n",
    "    \"5\":{\n",
    "        \"MCQ\":\"Multiple choise question\",\n",
    "        \"option\":{\n",
    "            \"a\":\"choice here\",\n",
    "            \"b\":\"choice here\",\n",
    "            \"c\":\"choice here\",\n",
    "            \"d\":\"choice here\"\n",
    "        },\n",
    "        \"correct\":\"correct answer\"\n",
    "},\n",
    "}"
   ]
  },
  {
   "cell_type": "code",
   "execution_count": null,
   "metadata": {},
   "outputs": [],
   "source": [
    "Template = \"\"\"\n",
    "Text:{text}\n",
    "you are an expert MCQ maker. Given the above text, it is your job yo \\\n",
    "create a quiz of {number} multiple choice questions for {subject} students in {tone} tone.\n",
    "make sure the questions are not repeated and check all the questions to be conforming the text as well.\n",
    "make sure to format youre response like RESPONSE_JSONE velow as use it as guide.\\\n",
    "Ensure to make{number} MCQs\n",
    "### RESPONSE_jSONE\n",
    "{response_json}\n",
    "\n",
    "\"\"\""
   ]
  },
  {
   "cell_type": "code",
   "execution_count": null,
   "metadata": {},
   "outputs": [],
   "source": [
    "quiz_generation_template = PromptTemplate(\n",
    "    input_variables = [\"text\",\"number\",\" subjet\",\"tone\",\"response_json\"]\n",
    "    template = Template\n",
    ")"
   ]
  },
  {
   "cell_type": "code",
   "execution_count": null,
   "metadata": {},
   "outputs": [],
   "source": [
    "quiz_chain = LLMChain(llm=llm,Prompt = quiz_generation_template,output_key = \"quiz\",verbose = True)"
   ]
  },
  {
   "cell_type": "code",
   "execution_count": null,
   "metadata": {},
   "outputs": [],
   "source": [
    "Template2 = \"\"\"\n",
    "\"\"\""
   ]
  },
  {
   "cell_type": "code",
   "execution_count": null,
   "metadata": {},
   "outputs": [],
   "source": [
    "quiz_evalution = PromptTemplate(\n",
    "    inpurt_variables = [\"subject\",\"quiz\"],\n",
    "    template = Template2\n",
    ")"
   ]
  },
  {
   "cell_type": "code",
   "execution_count": null,
   "metadata": {},
   "outputs": [],
   "source": [
    "review_chain = LLMChain(llm = llm, prompt = quiz_evalution,output_key = \"review\")\n",
    "\n",
    "genreate_evaluted_chains = SequentialChain(chains=[quiz_chain,review_chain], input_variables = [\"text\",\"number\",\" subjet\",\"tone\",\"response_json\",\"subject\",\"quiz\"],\n",
    "                                           output_variables = [\"quiz\",\"review\"],verbose = True)"
   ]
  },
  {
   "cell_type": "code",
   "execution_count": null,
   "metadata": {},
   "outputs": [],
   "source": [
    "with open(file_path,\"r\") as file:\n",
    "    text = file.read()"
   ]
  },
  {
   "cell_type": "code",
   "execution_count": null,
   "metadata": {},
   "outputs": [],
   "source": [
    "## serialize the puthon dictionary into json_formatted stirn\n",
    "json.dumps(responcse_json)"
   ]
  },
  {
   "cell_type": "code",
   "execution_count": null,
   "metadata": {},
   "outputs": [],
   "source": [
    "number = 6\n",
    "subject = \"machine learning\"\n",
    "tone = \"simple\""
   ]
  },
  {
   "cell_type": "code",
   "execution_count": null,
   "metadata": {},
   "outputs": [],
   "source": [
    "# how to setup token usage tracking in Langchain\n",
    "with get_openai_callback() as cb:\n",
    "    response = genreate_evaluted_chains(\n",
    "        {\n",
    "        \"text\":text,\n",
    "        \"number\":number,\n",
    "        \"subject\":subject,\n",
    "        \"tone\":tone,\n",
    "        \"responcse_json\":json.dumps(responcse_json)\n",
    "        }\n",
    "    )\n",
    "    "
   ]
  },
  {
   "cell_type": "code",
   "execution_count": null,
   "metadata": {},
   "outputs": [],
   "source": [
    "print(f\"Total_tokne\"{cb,total_token})"
   ]
  },
  {
   "cell_type": "code",
   "execution_count": null,
   "metadata": {},
   "outputs": [],
   "source": [
    "response"
   ]
  },
  {
   "cell_type": "code",
   "execution_count": null,
   "metadata": {},
   "outputs": [
    {
     "ename": "",
     "evalue": "",
     "output_type": "error",
     "traceback": [
      "\u001b[1;31mRunning cells with 'g:\\MCQ Generator\\env\\python.exe' requires the ipykernel package.\n",
      "\u001b[1;31mRun the following command to install 'ipykernel' into the Python environment. \n",
      "\u001b[1;31mCommand: 'conda install -p g:\\MCQ Generator\\env ipykernel --update-deps --force-reinstall'"
     ]
    }
   ],
   "source": [
    "quiz_table_data = []\n",
    "for key,value in quiz.items():\n",
    "    msq = value[\"mcq\"]\n",
    "    options = \" | \".join(\n",
    "        [\n",
    "            f\"{option}\":\"{option_value}\"\n",
    "            for option, option_value in value {\"options\"}.items()\n",
    "        ]\n",
    "    )\n",
    "    correct = value[\"correct\"]\n",
    "    quiz_table_data.append({\"mcq\":mcq,\"choices\":options,\"correct\":correct})"
   ]
  },
  {
   "cell_type": "code",
   "execution_count": null,
   "metadata": {},
   "outputs": [],
   "source": []
  },
  {
   "cell_type": "code",
   "execution_count": null,
   "metadata": {},
   "outputs": [],
   "source": []
  },
  {
   "cell_type": "code",
   "execution_count": null,
   "metadata": {},
   "outputs": [],
   "source": []
  },
  {
   "cell_type": "code",
   "execution_count": null,
   "metadata": {},
   "outputs": [],
   "source": []
  },
  {
   "cell_type": "code",
   "execution_count": null,
   "metadata": {},
   "outputs": [],
   "source": []
  },
  {
   "cell_type": "code",
   "execution_count": null,
   "metadata": {},
   "outputs": [],
   "source": []
  }
 ],
 "metadata": {
  "kernelspec": {
   "display_name": "Python 3",
   "language": "python",
   "name": "python3"
  },
  "language_info": {
   "name": "python",
   "version": "3.8.19"
  }
 },
 "nbformat": 4,
 "nbformat_minor": 2
}
